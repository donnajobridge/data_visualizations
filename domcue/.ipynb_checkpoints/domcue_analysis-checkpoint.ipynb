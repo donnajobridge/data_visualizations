{
 "cells": [
  {
   "cell_type": "code",
   "execution_count": 1,
   "metadata": {},
   "outputs": [],
   "source": [
    "import pandas as pd\n",
    "import numpy as np\n",
    "import seaborn as sns\n",
    "import matplotlib.pyplot as plt\n",
    "from pathlib import *"
   ]
  },
  {
   "cell_type": "code",
   "execution_count": 2,
   "metadata": {
    "scrolled": true
   },
   "outputs": [
    {
     "data": {
      "text/plain": [
       "['301',\n",
       " '302',\n",
       " '303',\n",
       " '305',\n",
       " '306',\n",
       " '307',\n",
       " '308',\n",
       " '309',\n",
       " '310',\n",
       " '311',\n",
       " '401',\n",
       " '402',\n",
       " '403',\n",
       " '404',\n",
       " '405',\n",
       " '406',\n",
       " '407',\n",
       " '408',\n",
       " '409',\n",
       " '410',\n",
       " '411',\n",
       " '412',\n",
       " '413',\n",
       " '414',\n",
       " '415',\n",
       " '416',\n",
       " '417',\n",
       " '418',\n",
       " '419',\n",
       " '420',\n",
       " '421',\n",
       " '423',\n",
       " '424',\n",
       " '426',\n",
       " '428',\n",
       " '429']"
      ]
     },
     "execution_count": 2,
     "metadata": {},
     "output_type": "execute_result"
    }
   ],
   "source": [
    "behavestring = 'data/'\n",
    "def get_subids(behavepath):\n",
    "    behavepath=Path(behavestring)\n",
    "    subfiles=\"*eyebehave.csv\"\n",
    "    sublist = []\n",
    "    for filepathobj in behavepath.glob(subfiles):\n",
    "        fname=filepathobj.name\n",
    "        sub = fname[:3]\n",
    "        sublist.append(sub)\n",
    "    sublist.sort()\n",
    "    return sublist\n",
    "subids = get_subids(behavestring)\n",
    "subids"
   ]
  },
  {
   "cell_type": "code",
   "execution_count": 3,
   "metadata": {},
   "outputs": [],
   "source": [
    "def make_timeseries(subcleandf, condnum):\n",
    "    studytimearray = pd.DataFrame(index=range(4500), columns=range(0,161))\n",
    "    restudytimearray = pd.DataFrame(index=range(4500), columns=range(0,161))\n",
    "    fix = subcleandf[(subcleandf['event']=='EFIX') & (subcleandf['cond']==condnum)]\n",
    "    offmask = (fix['startloc'] == 'offscreen')\n",
    "    fix.loc[offmask, 'startloc'] = np.nan\n",
    "    trialcount = 0\n",
    "    for groups, ldf in fix.groupby(by=['trialnum', 'phase']):\n",
    "        trial, phase = groups\n",
    "        for item, trialinfo in ldf.iterrows():\n",
    "            start = trialinfo['start']\n",
    "            end = trialinfo['end']\n",
    "            loc = trialinfo['startloc']\n",
    "            accuracy = trialinfo['all_accuracy']\n",
    "            if not accuracy:\n",
    "                continue\n",
    "            if phase == 'study':\n",
    "                studytimearray.iloc[start:end, trial] = loc\n",
    "            elif phase == 'restudy':\n",
    "                restudytimearray.iloc[start:end, trial] = loc\n",
    "\n",
    "    studytimearray.dropna(axis=1, how='all', inplace = True)  \n",
    "    restudytimearray.dropna(axis=1, how='all', inplace = True)\n",
    "    return studytimearray, restudytimearray\n"
   ]
  },
  {
   "cell_type": "code",
   "execution_count": 4,
   "metadata": {},
   "outputs": [],
   "source": [
    "def get_timeseries_props(timearray, sub):\n",
    "    numtrials = timearray.shape[1]\n",
    "    props = pd.DataFrame(index=range(timearray.shape[0]))\n",
    "\n",
    "    alltot = timearray.count(axis=1)\n",
    "    props['total_fix'] = alltot\n",
    "\n",
    "    objlist = ['obj1start', 'obj2start', 'obj3start', 'screen']\n",
    "    \n",
    "    for loc in objlist:\n",
    "        objset = timearray[timearray==loc].count(axis=1)\n",
    "        props[loc] = objset/alltot\n",
    "    \n",
    "    props.reset_index(inplace=True)\n",
    "    props.rename(columns={'index':'time'}, inplace=True)    \n",
    "    \n",
    "    props['sub'] = sub\n",
    "    \n",
    "    return props"
   ]
  },
  {
   "cell_type": "code",
   "execution_count": 5,
   "metadata": {},
   "outputs": [],
   "source": [
    "def get_timeseries_allsubs(subids):\n",
    "    # import each subs data file, run timeseries analysis and then append\n",
    "    actstudypropAll = pd.DataFrame()\n",
    "    actrestudypropAll = pd.DataFrame()\n",
    "    passtudypropAll = pd.DataFrame()\n",
    "    pasrestudypropAll = pd.DataFrame()\n",
    "    for sub in subids:\n",
    "        print('running', sub)\n",
    "        subfile = behavestring + sub + 'eyebehave.csv'\n",
    "        subcleandf = pd.read_csv(subfile)\n",
    "        actstudytimearray, actrestudytimearray = make_timeseries(subcleandf, 1)\n",
    "        passtudytimearray, pasrestudytimearray = make_timeseries(subcleandf, 2)\n",
    "\n",
    "        actstudyprops = get_timeseries_props(actstudytimearray, sub)\n",
    "        actrestudyprops = get_timeseries_props(actrestudytimearray, sub)\n",
    "\n",
    "        passtudyprops = get_timeseries_props(passtudytimearray, sub)\n",
    "        pasrestudyprops = get_timeseries_props(pasrestudytimearray, sub)\n",
    "\n",
    "        actstudypropAll=pd.concat([actstudypropAll,actstudyprops])\n",
    "        actrestudypropAll=pd.concat([actrestudypropAll,actrestudyprops])\n",
    "\n",
    "        passtudypropAll=pd.concat([passtudypropAll,passtudyprops])\n",
    "        pasrestudypropAll=pd.concat([pasrestudypropAll,pasrestudyprops])\n",
    "\n",
    "    return actstudypropAll, actrestudypropAll, passtudypropAll, pasrestudypropAll    "
   ]
  },
  {
   "cell_type": "code",
   "execution_count": 6,
   "metadata": {},
   "outputs": [
    {
     "name": "stdout",
     "output_type": "stream",
     "text": [
      "running 301\n"
     ]
    },
    {
     "name": "stderr",
     "output_type": "stream",
     "text": [
      "/Library/Frameworks/Python.framework/Versions/3.6/lib/python3.6/site-packages/pandas/core/indexing.py:537: SettingWithCopyWarning: \n",
      "A value is trying to be set on a copy of a slice from a DataFrame.\n",
      "Try using .loc[row_indexer,col_indexer] = value instead\n",
      "\n",
      "See the caveats in the documentation: http://pandas.pydata.org/pandas-docs/stable/indexing.html#indexing-view-versus-copy\n",
      "  self.obj[item] = s\n"
     ]
    },
    {
     "name": "stdout",
     "output_type": "stream",
     "text": [
      "running 302\n",
      "running 303\n",
      "running 305\n",
      "running 306\n",
      "running 307\n",
      "running 308\n",
      "running 309\n",
      "running 310\n",
      "running 311\n",
      "running 401\n",
      "running 402\n",
      "running 403\n",
      "running 404\n",
      "running 405\n",
      "running 406\n",
      "running 407\n",
      "running 408\n",
      "running 409\n",
      "running 410\n",
      "running 411\n",
      "running 412\n",
      "running 413\n",
      "running 414\n",
      "running 415\n",
      "running 416\n",
      "running 417\n",
      "running 418\n",
      "running 419\n",
      "running 420\n",
      "running 421\n",
      "running 423\n",
      "running 424\n",
      "running 426\n",
      "running 428\n",
      "running 429\n"
     ]
    }
   ],
   "source": [
    "actstudypropAll, actrestudypropAll, passtudypropAll, pasrestudypropAll = get_timeseries_allsubs(subids)"
   ]
  },
  {
   "cell_type": "code",
   "execution_count": 7,
   "metadata": {},
   "outputs": [],
   "source": [
    "actstudypropAll.to_csv('data/actstudypropAll.csv')\n",
    "actrestudypropAll.to_csv('data/actrestudypropAll.csv')\n",
    "passtudypropAll.to_csv('data/passtudypropAll.csv')\n",
    "pasrestudypropAll.to_csv('data/pasrestudypropAll.csv')"
   ]
  },
  {
   "cell_type": "code",
   "execution_count": 8,
   "metadata": {},
   "outputs": [],
   "source": [
    "actstudypropAll = pd.read_csv('data/actstudypropAll.csv')\n",
    "actrestudypropAll = pd.read_csv('data/actrestudypropAll.csv')\n",
    "passtudypropAll = pd.read_csv('data/passtudypropAll.csv')\n",
    "pasrestudypropAll = pd.read_csv('data/pasrestudypropAll.csv')"
   ]
  },
  {
   "cell_type": "code",
   "execution_count": 9,
   "metadata": {},
   "outputs": [],
   "source": [
    "def downsample_timeseries(timearray, newsamplerate):\n",
    "    alltimes = timearray.time.unique()\n",
    "    times_to_keep = alltimes[0:len(alltimes):newsamplerate]\n",
    "    downsampled = timearray.set_index('time')\n",
    "    downsampled = downsampled.loc[times_to_keep,:]\n",
    "    return downsampled\n",
    "\n",
    "actstudyprop10 = downsample_timeseries(actstudypropAll, 100)\n",
    "actrestudyprop10 = downsample_timeseries(actrestudypropAll, 100)\n",
    "passtudyprop10 = downsample_timeseries(passtudypropAll, 100)\n",
    "pasrestudyprop10 = downsample_timeseries(pasrestudypropAll, 100)"
   ]
  },
  {
   "cell_type": "code",
   "execution_count": 10,
   "metadata": {},
   "outputs": [],
   "source": [
    "objlist = ['obj1start', 'obj2start', 'obj3start', 'screen']\n",
    "# actrestudyprop10[objlist].plot.area()"
   ]
  },
  {
   "cell_type": "code",
   "execution_count": 11,
   "metadata": {},
   "outputs": [],
   "source": [
    "actdiff = actrestudyprop10[objlist] - actstudyprop10[objlist]\n",
    "actdiff['sub'] = actrestudyprop10['sub']\n",
    "# actdiff['time'] = actrestudyprop10['time']"
   ]
  },
  {
   "cell_type": "code",
   "execution_count": 12,
   "metadata": {},
   "outputs": [],
   "source": [
    "pasdiff = pasrestudyprop10[objlist] - passtudyprop10[objlist]\n",
    "pasdiff['sub'] = pasrestudyprop10['sub']\n"
   ]
  },
  {
   "cell_type": "code",
   "execution_count": 13,
   "metadata": {},
   "outputs": [
    {
     "data": {
      "text/plain": [
       "<matplotlib.axes._subplots.AxesSubplot at 0x117aad198>"
      ]
     },
     "execution_count": 13,
     "metadata": {},
     "output_type": "execute_result"
    },
    {
     "data": {
      "image/png": "[encoded data removed]",
      "text/plain": [
       "<Figure size 432x288 with 1 Axes>"
      ]
     },
     "metadata": {},
     "output_type": "display_data"
    }
   ],
   "source": [
    "sns.lineplot(data = actdiff, x=actdiff.index, y='obj1start')\n",
    "sns.lineplot(data = pasdiff, x=pasdiff.index, y='obj1start')"
   ]
  },
  {
   "cell_type": "code",
   "execution_count": null,
   "metadata": {},
   "outputs": [],
   "source": []
  },
  {
   "cell_type": "code",
   "execution_count": null,
   "metadata": {},
   "outputs": [],
   "source": [
    "actre = actrestudyprops.rolling(window=250).mean()"
   ]
  }
 ],
 "metadata": {
  "kernelspec": {
   "display_name": "Python 3",
   "language": "python",
   "name": "python3"
  },
  "language_info": {
   "codemirror_mode": {
    "name": "ipython",
    "version": 3
   },
   "file_extension": ".py",
   "mimetype": "text/x-python",
   "name": "python",
   "nbconvert_exporter": "python",
   "pygments_lexer": "ipython3",
   "version": "3.6.5"
  }
 },
 "nbformat": 4,
 "nbformat_minor": 2
}
