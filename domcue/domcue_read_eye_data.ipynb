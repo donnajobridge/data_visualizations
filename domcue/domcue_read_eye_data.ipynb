{
 "cells": [
  {
   "cell_type": "code",
   "execution_count": 1,
   "metadata": {},
   "outputs": [],
   "source": [
    "import pandas as pd\n",
    "import numpy as np\n",
    "import seaborn as sns\n",
    "import matplotlib.pyplot as plt\n",
    "from pathlib import *"
   ]
  },
  {
   "cell_type": "code",
   "execution_count": 79,
   "metadata": {
    "scrolled": true
   },
   "outputs": [
    {
     "name": "stderr",
     "output_type": "stream",
     "text": [
      "/Users/drdj/.pyenv/versions/3.6.5/lib/python3.6/site-packages/pandas/io/parsers.py:709: UserWarning: Duplicate names specified. This will raise an error in the future.\n",
      "  return _read(filepath_or_buffer, kwds)\n"
     ]
    }
   ],
   "source": [
    "sub='401'\n",
    "eyestring = '/Volumes/Voss_Lab/EEG/domcueMIXED_djb/eye.data/'\n",
    "eyepath=Path(eyestring)\n",
    "\n",
    "behavestring = '/Volumes/Voss_Lab/EEG/domcueMIXED_djb/behave.data/'\n",
    "behavepath=Path(behavestring)\n",
    "studyobj=[behavestring+sub+'study']\n",
    "studypath=Path(studyobj[0])\n",
    "\n",
    "colnames=['obj1','obj2','obj3','cuecond','loc1','x1','y1','loc2','x2','y2','loc3','x3','y3',\n",
    "     'domRT','dom_resp','cond','block','tmp', 'tmp']\n",
    "studyarray=pd.read_table(studypath,header=None ,names=colnames, index_col=None)\n",
    "tmpmask=~studyarray.columns.str.contains('tmp')\n",
    "studyarray=studyarray[studyarray.columns[tmpmask]]\n",
    "\n",
    "trialnum = np.arange(1,len(studyarray)+1)\n",
    "studyarray['trialnum'] = trialnum\n"
   ]
  },
  {
   "cell_type": "code",
   "execution_count": null,
   "metadata": {},
   "outputs": [],
   "source": [
    "substrings=[\"*.asc\"]\n",
    "suball = []\n",
    "subinfo = []\n",
    "for s in substrings:\n",
    "    for filepathobj in eyepath.glob(s):\n",
    "        fname=filepathobj.name\n",
    "        parts=fname.split(\".\")[0]\n",
    "        subject=parts[:3]\n",
    "        suball.append(subject)\n",
    "        block=parts[3:4]\n",
    "        subdict={\"subject\":subject, \"block\":block, \"fname\":fname}\n",
    "        subinfo.append(subdict)\n",
    "sublist = set(suball)\n",
    "eye_sub = pd.DataFrame(subinfo)\n",
    "eye_sub = eye_sub[eye_sub['subject']=='401']\n",
    "eye_sub.sort_values(by=['fname'], inplace = True)\n",
    "eye_sub.reset_index(inplace=True, drop=True)"
   ]
  },
  {
   "cell_type": "code",
   "execution_count": 49,
   "metadata": {},
   "outputs": [
    {
     "name": "stdout",
     "output_type": "stream",
     "text": [
      "/Volumes/Voss_Lab/EEG/domcueMIXED_djb/eye.data/\n",
      "20 1 0\n",
      "40 2 0\n",
      "60 3 0\n",
      "80 4 0\n",
      "100 5 0\n",
      "120 6 0\n",
      "140 7 0\n",
      "160 8 0\n"
     ]
    }
   ],
   "source": [
    "def parse_eye_events_to_intline(line,extrainfo):\n",
    "    efixspace=[\"\",\"\",\"\"]\n",
    "    eblinkspace=efixspace*2\n",
    "    newline=line.split()\n",
    "    if \"EFIX\" in line:\n",
    "        newline.extend(efixspace)\n",
    "    elif \"EBLINK\" in line:\n",
    "        newline.extend(eblinkspace)\n",
    "    newline.extend(extrainfo)\n",
    "    return newline\n",
    "\n",
    "def parse_eye_line(eye_sub, eyestring):\n",
    "    \"\"\" parses each line of eye file for a given eye_phase_sub\n",
    "    input one phase type list of files for a subs\n",
    "    and the path to the file (in form of a string)\n",
    "    outputs dataframe with all events in table\n",
    "    \"\"\"\n",
    "    etypes=('ESACC','EFIX','EBLINK')\n",
    "    study=[]\n",
    "    restudy=[]\n",
    "    blocks=eye_sub.block\n",
    "    fnames=eye_sub.fname\n",
    "    subjects=eye_sub.subject\n",
    "    totalcount=0\n",
    "    trialnum=0\n",
    "    print(eyestring)\n",
    "    for block,fname,subject in zip(blocks,fnames,subjects):\n",
    "        path_file=eyestring+fname\n",
    "        startcount=0\n",
    "        p=Path(path_file)\n",
    "        with p.open() as f:\n",
    "            for line in f:\n",
    "                if \"START\" in line:\n",
    "                    totalcount=totalcount+1\n",
    "                    startline=line.split()\n",
    "                    starttime=int(startline[1])\n",
    "                    if totalcount % 2:\n",
    "                        trialnum = trialnum+1\n",
    "\n",
    "                if any(e in line for e in etypes):\n",
    "                    extrainfo=[starttime,trialnum,block,subject]\n",
    "                    newline=parse_eye_events_to_intline(line,extrainfo)\n",
    "                    if totalcount % 2:\n",
    "                        restudy.append(newline)\n",
    "                    else:\n",
    "                        study.append(newline)\n",
    "            print(trialnum, block, startcount)\n",
    "    return study, restudy\n",
    "study, restudy = parse_eye_line(eye_sub, eyestring)\n",
    "\n",
    "\n",
    "def events_to_df(events):\n",
    "    \"\"\" change raw events to data DataFrame\n",
    "    then and change values to numeric\"\"\"\n",
    "\n",
    "    eye_events_df=pd.DataFrame(events)\n",
    "    eye_events_df=eye_events_df.apply(pd.to_numeric,errors='ignore')\n",
    "    headers=[\"event\",\"eye\",\"start\",\"end\",\"duration\",\n",
    "    \"xstart\",\"ystart\",\"xend\",\"yend\",\"?\",\"?\",\"trialstart\",\n",
    "    \"trialnum\",\"block\",\"sub\"]\n",
    "    eye_events_df.columns=headers\n",
    "    return eye_events_df\n",
    "\n",
    "def eventsdf_cleanup(eye_events_df):\n",
    "    \"\"\"adjust trial start time, remove irrelevant values in fixation rows,\n",
    "    and then delete excess columns\"\"\"\n",
    "\n",
    "    eyedf_clean=eye_events_df.copy()\n",
    "\n",
    "    eyedf_clean['start']=eyedf_clean['start']-eyedf_clean['trialstart']\n",
    "    eyedf_clean['end']=eyedf_clean['end']-eyedf_clean['trialstart']\n",
    "\n",
    "    efix_mask = (eyedf_clean[\"event\"]==\"EFIX\")\n",
    "    eyedf_clean.loc[efix_mask, 'xend'] = np.nan\n",
    "\n",
    "    del eyedf_clean['trialstart']\n",
    "    del eyedf_clean['?']\n",
    "    del eyedf_clean['eye']\n",
    "\n",
    "    return eyedf_clean\n",
    "\n",
    "studydf = events_to_df(study)\n",
    "studydf_clean = eventsdf_cleanup(studydf)\n",
    "\n",
    "restudydf = events_to_df(restudy)\n",
    "restudydf_clean = eventsdf_cleanup(restudydf)"
   ]
  },
  {
   "cell_type": "code",
   "execution_count": 56,
   "metadata": {},
   "outputs": [],
   "source": [
    "studydf_clean['phase']='study'\n",
    "restudydf_clean['phase']='restudy'"
   ]
  },
  {
   "cell_type": "code",
   "execution_count": null,
   "metadata": {},
   "outputs": [],
   "source": [
    "def set_behavior_path(sub, behavestring):\n",
    "    extra='recogarray.txt'\n",
    "    behaveobj=[behavestring+sub+extra]\n",
    "    behavepath=Path(behaveobj[0])\n",
    "    behavepath.exists()\n",
    "    return behavepath"
   ]
  },
  {
   "cell_type": "code",
   "execution_count": null,
   "metadata": {},
   "outputs": [],
   "source": [
    "def adjust_pres_coords(array,x,y,xmax=1920/2,ymax=1080/2):\n",
    "    \"\"\"adjustment for behavioral coords to match\n",
    "    eye coords for presentation version of exp\"\"\"\n",
    "    newarray=pd.DataFrame()\n",
    "    newarray[x]=array[x]+xmax\n",
    "    newarray[y]=(array[y]-ymax)*-1\n",
    "    return newarray\n",
    "\n",
    "def apply_adjust_pres_coords(behavearray):\n",
    "    \"\"\"applies adjust_pres_coords to all\n",
    "    coords in behave array\"\"\"\n",
    "    newloc1=adjust_pres_coords(behavearray,'x1','x1')\n",
    "    newloc2=adjust_pres_coords(behavearray,'x2','x2')\n",
    "    newloc3=adjust_pres_coords(behavearray,'x3','x3')\n",
    "    newlocs=pd.concat([newloc1,newloc2,newloc3],axis=1)\n",
    "\n",
    "    cols=newlocs.columns.tolist()\n",
    "    for loc in cols:\n",
    "        behavearray[loc]=newlocs[loc]\n",
    "    return behavearray"
   ]
  },
  {
   "cell_type": "code",
   "execution_count": null,
   "metadata": {},
   "outputs": [],
   "source": [
    "all = studydf_clean.append(restudydf_clean)\n",
    "all.reset_index(inplace=True, drop=True)\n"
   ]
  }
 ],
 "metadata": {
  "kernelspec": {
   "display_name": "Python 3",
   "language": "python",
   "name": "python3"
  },
  "language_info": {
   "codemirror_mode": {
    "name": "ipython",
    "version": 3
   },
   "file_extension": ".py",
   "mimetype": "text/x-python",
   "name": "python",
   "nbconvert_exporter": "python",
   "pygments_lexer": "ipython3",
   "version": "3.6.5"
  }
 },
 "nbformat": 4,
 "nbformat_minor": 2
}
